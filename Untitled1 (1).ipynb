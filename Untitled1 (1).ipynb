{
  "cells": [
    {
      "cell_type": "code",
      "execution_count": null,
      "metadata": {
        "colab": {
          "background_save": true,
          "base_uri": "https://localhost:8080/"
        },
        "id": "3mNPJQG6bNu9",
        "outputId": "7a38e0e4-dc04-46bb-c7c6-7beff012c116"
      },
      "outputs": [
        {
          "metadata": {
            "tags": null
          },
          "name": "stdout",
          "output_type": "stream",
          "text": [
            "1\t2\t3\t\n",
            "4\t5\t6\t\n",
            "7\t8\t9\t\n",
            "Welcome to Tic Tac Toe!\n"
          ]
        }
      ],
      "source": [
        "import numpy as np\n",
        "import time\n",
        "import datetime\n",
        "result={}\n",
        "t = np.zeros((3, 3), dtype=int)\n",
        "q = 1\n",
        "for i in range(3):\n",
        "    for j in range(3):\n",
        "        t[i][j] = q\n",
        "        q = q+1\n",
        "for i in range(3):\n",
        "    for j in range(3):\n",
        "        print(t[i][j],end='\\t')\n",
        "    print()\n",
        "def winner(t):\n",
        "    for i in range(3):\n",
        "        if t[i][0] == t[i][1] == t[i][2] != \" \":\n",
        "            return True\n",
        "        if t[0][i] == t[1][i] == t[2][i] != \" \":\n",
        "            return True\n",
        "    if t[0][0] == t[1][1] == t[2][2] != \" \":\n",
        "        return True\n",
        "    if t[0][2] == t[1][1] == t[2][0] != \" \":\n",
        "        return True\n",
        "    return False\n",
        "\n",
        "def move(t,player):\n",
        "    while True:\n",
        "         move = int(input(\" enter your move (1-9): \"))\n",
        "         row=(move-1)//3\n",
        "         col=(move-1)%3\n",
        "         if t[row][col]==\" \":\n",
        "            t[row][col]=player\n",
        "            break\n",
        "         else:\n",
        "            print(\"Invalid move, try again.\")\n",
        "\n",
        "\n",
        "def full(t):\n",
        "    for i in range(3):\n",
        "        for j in range(3):\n",
        "           if t[i][j]==\" \":\n",
        "            return False\n",
        "    return True\n",
        "\n",
        "def startgame(rn):\n",
        "    st = time.time()\n",
        "    t = [[\" \" for i in range(3)] for j in range(3)]\n",
        "    cp = \"X\"\n",
        "    winner_player = None\n",
        "    round_date = datetime.datetime.now().strftime(\"%Y-%m-%d %H:%M:%S\")\n",
        "    while True:\n",
        "        for row in t:\n",
        "            print(' | '.join(row))\n",
        "            print('-' * 5)\n",
        "        move(t, cp)\n",
        "        if winner(t):\n",
        "            print(cp, \"wins!\")\n",
        "            winner_player = cp\n",
        "            break\n",
        "        elif full(t):\n",
        "            print(\"It's a tie!\")\n",
        "            winner_player = \"Tie\"\n",
        "            break\n",
        "        cp = \"O\" if cp == \"X\" else \"X\"\n",
        "\n",
        "    ent = time.time()\n",
        "    ext = ent - st\n",
        "    print(f\"Game duration: {ext:.2f} seconds\")\n",
        "\n",
        "    result[rn] = {\n",
        "        \"winner\": winner_player,\n",
        "        \"duration\": ext,\n",
        "        \"date\": round_date\n",
        "    }\n",
        "def mrounds(nr):\n",
        "  for rn in range(1, nr + 1):\n",
        "        print(f\"\\nStarting Round {rn}\")\n",
        "        startgame(rn)\n",
        "\n",
        "def pmrounds(num_rounds):\n",
        "    for rn in range(1, nr + 1):\n",
        "        print(f\"\\nStarting Round {rn}\")\n",
        "        startgame(rn)\n",
        "    print(\"\\nGame Summary:\")\n",
        "    for rn, game_data in result.items():\n",
        "        print(f\"Round {rn}:Date = {game_data['date']}, Winner = {game_data['winner']}, Duration = {game_data['duration']:.2f} seconds\")\n",
        "\n",
        "print(\"Welcome to Tic Tac Toe!\")\n",
        "nr = int(input(\"Enter the number of rounds to play: \"))\n",
        "pmrounds(nr)\n",
        "startgame(rn)\n"
      ]
    }
  ],
  "metadata": {
    "colab": {
      "provenance": []
    },
    "kernelspec": {
      "display_name": "Python 3",
      "name": "python3"
    },
    "language_info": {
      "name": "python"
    }
  },
  "nbformat": 4,
  "nbformat_minor": 0
}